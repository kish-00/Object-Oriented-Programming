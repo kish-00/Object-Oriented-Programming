{
 "cells": [
  {
   "cell_type": "code",
   "execution_count": 1,
   "metadata": {},
   "outputs": [],
   "source": [
    "import sys\n",
    "import numpy"
   ]
  },
  {
   "cell_type": "code",
   "execution_count": null,
   "metadata": {},
   "outputs": [],
   "source": [
    "name = input (\"Enter your name?\")"
   ]
  },
  {
   "cell_type": "code",
   "execution_count": null,
   "metadata": {},
   "outputs": [],
   "source": [
    "print(name)"
   ]
  },
  {
   "cell_type": "code",
   "execution_count": 12,
   "metadata": {},
   "outputs": [
    {
     "name": "stdout",
     "output_type": "stream",
     "text": [
      "\n",
      "*\n",
      "**\n",
      "***\n",
      "****\n"
     ]
    }
   ],
   "source": [
    "for i in range(5):\n",
    "    print(\"*\" * i)"
   ]
  },
  {
   "cell_type": "code",
   "execution_count": 1,
   "metadata": {},
   "outputs": [
    {
     "name": "stdout",
     "output_type": "stream",
     "text": [
      "<class 'str'>\n",
      "number is even\n"
     ]
    }
   ],
   "source": [
    "number = input(\"please enter your name\")\n",
    "# print(type(number))\n",
    "\n",
    "if(int(number) % 2 == 0):\n",
    "    print('number is even')\n",
    "else:\n",
    "    print('number is odd')"
   ]
  },
  {
   "cell_type": "code",
   "execution_count": 2,
   "metadata": {},
   "outputs": [
    {
     "name": "stdout",
     "output_type": "stream",
     "text": [
      "1\n",
      "2\n",
      "buzz\n",
      "4\n",
      "wass\n",
      "buzz\n",
      "7\n",
      "8\n",
      "buzz\n",
      "wass\n",
      "11\n",
      "buzz\n",
      "13\n",
      "14\n",
      "buzzwass\n"
     ]
    }
   ],
   "source": [
    "\n",
    "for i in range(1,16):\n",
    "    if (i%3==0 and i%5 ==0):\n",
    "        print( \"buzzwass\")\n",
    "    elif(i%3==0):\n",
    "        print(\"buzz\")\n",
    "    elif(i%5==0):\n",
    "        print(\"wass\")\n",
    "    else:\n",
    "        print(i)"
   ]
  },
  {
   "cell_type": "code",
   "execution_count": 2,
   "metadata": {},
   "outputs": [
    {
     "data": {
      "text/plain": [
       "'KISH'"
      ]
     },
     "execution_count": 2,
     "metadata": {},
     "output_type": "execute_result"
    }
   ],
   "source": [
    "def textExpo(txt):\n",
    "    txt = txt.upper()\n",
    "    return txt\n",
    "\n",
    "word = input(\"Enter a word: \")\n",
    "textExpo(word)"
   ]
  },
  {
   "cell_type": "code",
   "execution_count": 42,
   "metadata": {},
   "outputs": [
    {
     "name": "stdout",
     "output_type": "stream",
     "text": [
      "dict_keys(['avocado', 'mango', 'orange', 'apple', 'grapes'])\n",
      "dict_values([30, 20, 10, 30, 20])\n",
      "30\n",
      "{'avocado': 30, 'mango': 20, 'orange': 10, 'apple': 30, 'grapes': 20, 'kiwi': 100}\n",
      "{'avocado': 30, 'orange': 10, 'apple': 30, 'grapes': 20, 'kiwi': 100}\n",
      "{'daffy': 80, 'kachinja': 78, 'gustavo': 95, 'pablo': 65, 'jongo': 88}\n",
      "{'maranda boys': 10, 'liteni boys': 6.8, 'kanuinga boys': 8.1, 'moi girls': 8.4}\n"
     ]
    }
   ],
   "source": [
    "fruits = {'avocado': 30, 'mango': 20, 'orange': 10, 'apple': 30, 'grapes': 20}\n",
    "print(fruits.keys())\n",
    "print(fruits.values())\n",
    "\n",
    "#print(fruits['orange')\n",
    "print(fruits.get('avocado'))\n",
    "\n",
    "fruits['kiwi'] = 100\n",
    "print(fruits)\n",
    "\n",
    "fruits.pop('mango')\n",
    "print(fruits)\n",
    "\n",
    "students=['daffy', 'kachinja', 'gustavo', 'pablo', 'jongo']\n",
    "marks= [80, 78, 95, 65, 88]\n",
    "dic1 = dict(zip(students, marks))\n",
    "print(dic1)\n",
    "\n",
    "schools = {'maranda boys': 10, 'liteni boys': 6.8, 'kanunga boys':8.1}\n",
    "schools['moi girls'] = 8.4\n",
    "print(schools)"
   ]
  }
 ],
 "metadata": {
  "kernelspec": {
   "display_name": "Python 3",
   "language": "python",
   "name": "python3"
  },
  "language_info": {
   "codemirror_mode": {
    "name": "ipython",
    "version": 3
   },
   "file_extension": ".py",
   "mimetype": "text/x-python",
   "name": "python",
   "nbconvert_exporter": "python",
   "pygments_lexer": "ipython3",
   "version": "3.10.6"
  },
  "vscode": {
   "interpreter": {
    "hash": "916dbcbb3f70747c44a77c7bcd40155683ae19c65e1c03b4aa3499c5328201f1"
   }
  }
 },
 "nbformat": 4,
 "nbformat_minor": 2
}
